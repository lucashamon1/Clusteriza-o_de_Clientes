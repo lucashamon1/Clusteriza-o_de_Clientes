{
  "nbformat": 4,
  "nbformat_minor": 0,
  "metadata": {
    "colab": {
      "provenance": [],
      "collapsed_sections": [],
      "authorship_tag": "ABX9TyNkumMjxvkPYV6MrfJWMlo8",
      "include_colab_link": true
    },
    "kernelspec": {
      "name": "python3",
      "display_name": "Python 3"
    },
    "language_info": {
      "name": "python"
    }
  },
  "cells": [
    {
      "cell_type": "markdown",
      "metadata": {
        "id": "view-in-github",
        "colab_type": "text"
      },
      "source": [
        "<a href=\"https://colab.research.google.com/github/lucashamon1/Clusteriza-o_de_Clientes/blob/main/Clusteriza%C3%A7%C3%A3o_de_Clientes.ipynb\" target=\"_parent\"><img src=\"https://colab.research.google.com/assets/colab-badge.svg\" alt=\"Open In Colab\"/></a>"
      ]
    },
    {
      "cell_type": "markdown",
      "source": [
        "Apartir da base de dados de clientes de um banco queremos criar estratégias para aumentar o lucro da instituição.\n",
        "\n",
        "Para isso foram criados grupos de clientes e estratégias para cada grupo para maximizar os lucros"
      ],
      "metadata": {
        "id": "4_6nVnq5rK3k"
      }
    },
    {
      "cell_type": "code",
      "execution_count": 1,
      "metadata": {
        "colab": {
          "base_uri": "https://localhost:8080/",
          "height": 270
        },
        "id": "XWuQCWbddYag",
        "outputId": "f7e9a0f1-1320-4090-80c5-2e4e9aa65cc7"
      },
      "outputs": [
        {
          "output_type": "execute_result",
          "data": {
            "text/plain": [
              "  CUST_ID      BALANCE  BALANCE_FREQUENCY  PURCHASES  ONEOFF_PURCHASES  \\\n",
              "0  C10001    40.900749           0.818182      95.40              0.00   \n",
              "1  C10002  3202.467416           0.909091       0.00              0.00   \n",
              "2  C10003  2495.148862           1.000000     773.17            773.17   \n",
              "3  C10004  1666.670542           0.636364    1499.00           1499.00   \n",
              "4  C10005   817.714335           1.000000      16.00             16.00   \n",
              "\n",
              "   INSTALLMENTS_PURCHASES  CASH_ADVANCE  PURCHASES_FREQUENCY  \\\n",
              "0                    95.4      0.000000             0.166667   \n",
              "1                     0.0   6442.945483             0.000000   \n",
              "2                     0.0      0.000000             1.000000   \n",
              "3                     0.0    205.788017             0.083333   \n",
              "4                     0.0      0.000000             0.083333   \n",
              "\n",
              "   ONEOFF_PURCHASES_FREQUENCY  PURCHASES_INSTALLMENTS_FREQUENCY  \\\n",
              "0                    0.000000                          0.083333   \n",
              "1                    0.000000                          0.000000   \n",
              "2                    1.000000                          0.000000   \n",
              "3                    0.083333                          0.000000   \n",
              "4                    0.083333                          0.000000   \n",
              "\n",
              "   CASH_ADVANCE_FREQUENCY  CASH_ADVANCE_TRX  PURCHASES_TRX  CREDIT_LIMIT  \\\n",
              "0                0.000000                 0              2        1000.0   \n",
              "1                0.250000                 4              0        7000.0   \n",
              "2                0.000000                 0             12        7500.0   \n",
              "3                0.083333                 1              1        7500.0   \n",
              "4                0.000000                 0              1        1200.0   \n",
              "\n",
              "      PAYMENTS  MINIMUM_PAYMENTS  PRC_FULL_PAYMENT  TENURE  \n",
              "0   201.802084        139.509787          0.000000      12  \n",
              "1  4103.032597       1072.340217          0.222222      12  \n",
              "2   622.066742        627.284787          0.000000      12  \n",
              "3     0.000000               NaN          0.000000      12  \n",
              "4   678.334763        244.791237          0.000000      12  "
            ],
            "text/html": [
              "\n",
              "  <div id=\"df-84d81dfa-7755-4a83-90c7-7e4e8f145b05\">\n",
              "    <div class=\"colab-df-container\">\n",
              "      <div>\n",
              "<style scoped>\n",
              "    .dataframe tbody tr th:only-of-type {\n",
              "        vertical-align: middle;\n",
              "    }\n",
              "\n",
              "    .dataframe tbody tr th {\n",
              "        vertical-align: top;\n",
              "    }\n",
              "\n",
              "    .dataframe thead th {\n",
              "        text-align: right;\n",
              "    }\n",
              "</style>\n",
              "<table border=\"1\" class=\"dataframe\">\n",
              "  <thead>\n",
              "    <tr style=\"text-align: right;\">\n",
              "      <th></th>\n",
              "      <th>CUST_ID</th>\n",
              "      <th>BALANCE</th>\n",
              "      <th>BALANCE_FREQUENCY</th>\n",
              "      <th>PURCHASES</th>\n",
              "      <th>ONEOFF_PURCHASES</th>\n",
              "      <th>INSTALLMENTS_PURCHASES</th>\n",
              "      <th>CASH_ADVANCE</th>\n",
              "      <th>PURCHASES_FREQUENCY</th>\n",
              "      <th>ONEOFF_PURCHASES_FREQUENCY</th>\n",
              "      <th>PURCHASES_INSTALLMENTS_FREQUENCY</th>\n",
              "      <th>CASH_ADVANCE_FREQUENCY</th>\n",
              "      <th>CASH_ADVANCE_TRX</th>\n",
              "      <th>PURCHASES_TRX</th>\n",
              "      <th>CREDIT_LIMIT</th>\n",
              "      <th>PAYMENTS</th>\n",
              "      <th>MINIMUM_PAYMENTS</th>\n",
              "      <th>PRC_FULL_PAYMENT</th>\n",
              "      <th>TENURE</th>\n",
              "    </tr>\n",
              "  </thead>\n",
              "  <tbody>\n",
              "    <tr>\n",
              "      <th>0</th>\n",
              "      <td>C10001</td>\n",
              "      <td>40.900749</td>\n",
              "      <td>0.818182</td>\n",
              "      <td>95.40</td>\n",
              "      <td>0.00</td>\n",
              "      <td>95.4</td>\n",
              "      <td>0.000000</td>\n",
              "      <td>0.166667</td>\n",
              "      <td>0.000000</td>\n",
              "      <td>0.083333</td>\n",
              "      <td>0.000000</td>\n",
              "      <td>0</td>\n",
              "      <td>2</td>\n",
              "      <td>1000.0</td>\n",
              "      <td>201.802084</td>\n",
              "      <td>139.509787</td>\n",
              "      <td>0.000000</td>\n",
              "      <td>12</td>\n",
              "    </tr>\n",
              "    <tr>\n",
              "      <th>1</th>\n",
              "      <td>C10002</td>\n",
              "      <td>3202.467416</td>\n",
              "      <td>0.909091</td>\n",
              "      <td>0.00</td>\n",
              "      <td>0.00</td>\n",
              "      <td>0.0</td>\n",
              "      <td>6442.945483</td>\n",
              "      <td>0.000000</td>\n",
              "      <td>0.000000</td>\n",
              "      <td>0.000000</td>\n",
              "      <td>0.250000</td>\n",
              "      <td>4</td>\n",
              "      <td>0</td>\n",
              "      <td>7000.0</td>\n",
              "      <td>4103.032597</td>\n",
              "      <td>1072.340217</td>\n",
              "      <td>0.222222</td>\n",
              "      <td>12</td>\n",
              "    </tr>\n",
              "    <tr>\n",
              "      <th>2</th>\n",
              "      <td>C10003</td>\n",
              "      <td>2495.148862</td>\n",
              "      <td>1.000000</td>\n",
              "      <td>773.17</td>\n",
              "      <td>773.17</td>\n",
              "      <td>0.0</td>\n",
              "      <td>0.000000</td>\n",
              "      <td>1.000000</td>\n",
              "      <td>1.000000</td>\n",
              "      <td>0.000000</td>\n",
              "      <td>0.000000</td>\n",
              "      <td>0</td>\n",
              "      <td>12</td>\n",
              "      <td>7500.0</td>\n",
              "      <td>622.066742</td>\n",
              "      <td>627.284787</td>\n",
              "      <td>0.000000</td>\n",
              "      <td>12</td>\n",
              "    </tr>\n",
              "    <tr>\n",
              "      <th>3</th>\n",
              "      <td>C10004</td>\n",
              "      <td>1666.670542</td>\n",
              "      <td>0.636364</td>\n",
              "      <td>1499.00</td>\n",
              "      <td>1499.00</td>\n",
              "      <td>0.0</td>\n",
              "      <td>205.788017</td>\n",
              "      <td>0.083333</td>\n",
              "      <td>0.083333</td>\n",
              "      <td>0.000000</td>\n",
              "      <td>0.083333</td>\n",
              "      <td>1</td>\n",
              "      <td>1</td>\n",
              "      <td>7500.0</td>\n",
              "      <td>0.000000</td>\n",
              "      <td>NaN</td>\n",
              "      <td>0.000000</td>\n",
              "      <td>12</td>\n",
              "    </tr>\n",
              "    <tr>\n",
              "      <th>4</th>\n",
              "      <td>C10005</td>\n",
              "      <td>817.714335</td>\n",
              "      <td>1.000000</td>\n",
              "      <td>16.00</td>\n",
              "      <td>16.00</td>\n",
              "      <td>0.0</td>\n",
              "      <td>0.000000</td>\n",
              "      <td>0.083333</td>\n",
              "      <td>0.083333</td>\n",
              "      <td>0.000000</td>\n",
              "      <td>0.000000</td>\n",
              "      <td>0</td>\n",
              "      <td>1</td>\n",
              "      <td>1200.0</td>\n",
              "      <td>678.334763</td>\n",
              "      <td>244.791237</td>\n",
              "      <td>0.000000</td>\n",
              "      <td>12</td>\n",
              "    </tr>\n",
              "  </tbody>\n",
              "</table>\n",
              "</div>\n",
              "      <button class=\"colab-df-convert\" onclick=\"convertToInteractive('df-84d81dfa-7755-4a83-90c7-7e4e8f145b05')\"\n",
              "              title=\"Convert this dataframe to an interactive table.\"\n",
              "              style=\"display:none;\">\n",
              "        \n",
              "  <svg xmlns=\"http://www.w3.org/2000/svg\" height=\"24px\"viewBox=\"0 0 24 24\"\n",
              "       width=\"24px\">\n",
              "    <path d=\"M0 0h24v24H0V0z\" fill=\"none\"/>\n",
              "    <path d=\"M18.56 5.44l.94 2.06.94-2.06 2.06-.94-2.06-.94-.94-2.06-.94 2.06-2.06.94zm-11 1L8.5 8.5l.94-2.06 2.06-.94-2.06-.94L8.5 2.5l-.94 2.06-2.06.94zm10 10l.94 2.06.94-2.06 2.06-.94-2.06-.94-.94-2.06-.94 2.06-2.06.94z\"/><path d=\"M17.41 7.96l-1.37-1.37c-.4-.4-.92-.59-1.43-.59-.52 0-1.04.2-1.43.59L10.3 9.45l-7.72 7.72c-.78.78-.78 2.05 0 2.83L4 21.41c.39.39.9.59 1.41.59.51 0 1.02-.2 1.41-.59l7.78-7.78 2.81-2.81c.8-.78.8-2.07 0-2.86zM5.41 20L4 18.59l7.72-7.72 1.47 1.35L5.41 20z\"/>\n",
              "  </svg>\n",
              "      </button>\n",
              "      \n",
              "  <style>\n",
              "    .colab-df-container {\n",
              "      display:flex;\n",
              "      flex-wrap:wrap;\n",
              "      gap: 12px;\n",
              "    }\n",
              "\n",
              "    .colab-df-convert {\n",
              "      background-color: #E8F0FE;\n",
              "      border: none;\n",
              "      border-radius: 50%;\n",
              "      cursor: pointer;\n",
              "      display: none;\n",
              "      fill: #1967D2;\n",
              "      height: 32px;\n",
              "      padding: 0 0 0 0;\n",
              "      width: 32px;\n",
              "    }\n",
              "\n",
              "    .colab-df-convert:hover {\n",
              "      background-color: #E2EBFA;\n",
              "      box-shadow: 0px 1px 2px rgba(60, 64, 67, 0.3), 0px 1px 3px 1px rgba(60, 64, 67, 0.15);\n",
              "      fill: #174EA6;\n",
              "    }\n",
              "\n",
              "    [theme=dark] .colab-df-convert {\n",
              "      background-color: #3B4455;\n",
              "      fill: #D2E3FC;\n",
              "    }\n",
              "\n",
              "    [theme=dark] .colab-df-convert:hover {\n",
              "      background-color: #434B5C;\n",
              "      box-shadow: 0px 1px 3px 1px rgba(0, 0, 0, 0.15);\n",
              "      filter: drop-shadow(0px 1px 2px rgba(0, 0, 0, 0.3));\n",
              "      fill: #FFFFFF;\n",
              "    }\n",
              "  </style>\n",
              "\n",
              "      <script>\n",
              "        const buttonEl =\n",
              "          document.querySelector('#df-84d81dfa-7755-4a83-90c7-7e4e8f145b05 button.colab-df-convert');\n",
              "        buttonEl.style.display =\n",
              "          google.colab.kernel.accessAllowed ? 'block' : 'none';\n",
              "\n",
              "        async function convertToInteractive(key) {\n",
              "          const element = document.querySelector('#df-84d81dfa-7755-4a83-90c7-7e4e8f145b05');\n",
              "          const dataTable =\n",
              "            await google.colab.kernel.invokeFunction('convertToInteractive',\n",
              "                                                     [key], {});\n",
              "          if (!dataTable) return;\n",
              "\n",
              "          const docLinkHtml = 'Like what you see? Visit the ' +\n",
              "            '<a target=\"_blank\" href=https://colab.research.google.com/notebooks/data_table.ipynb>data table notebook</a>'\n",
              "            + ' to learn more about interactive tables.';\n",
              "          element.innerHTML = '';\n",
              "          dataTable['output_type'] = 'display_data';\n",
              "          await google.colab.output.renderOutput(dataTable, element);\n",
              "          const docLink = document.createElement('div');\n",
              "          docLink.innerHTML = docLinkHtml;\n",
              "          element.appendChild(docLink);\n",
              "        }\n",
              "      </script>\n",
              "    </div>\n",
              "  </div>\n",
              "  "
            ]
          },
          "metadata": {},
          "execution_count": 1
        }
      ],
      "source": [
        "import pandas as pd\n",
        "dados = pd.read_csv('CC GENERAL.csv')\n",
        "dados.head()"
      ]
    },
    {
      "cell_type": "markdown",
      "source": [
        "#Limpeza dos Dados"
      ],
      "metadata": {
        "id": "MTrO2XCpeWwy"
      }
    },
    {
      "cell_type": "code",
      "source": [
        "dados.drop(columns=['CUST_ID','TENURE'], inplace=True)"
      ],
      "metadata": {
        "id": "_fJ1sg5ldvAZ"
      },
      "execution_count": 2,
      "outputs": []
    },
    {
      "cell_type": "markdown",
      "source": [
        "Tratar dados faltantes"
      ],
      "metadata": {
        "id": "mnIXmaf6gpAQ"
      }
    },
    {
      "cell_type": "code",
      "source": [
        "missing = dados.isna().sum()\n",
        "missing"
      ],
      "metadata": {
        "colab": {
          "base_uri": "https://localhost:8080/"
        },
        "id": "fdzYipy1gIED",
        "outputId": "124edf1b-5dd5-4e54-a561-165430014321"
      },
      "execution_count": 3,
      "outputs": [
        {
          "output_type": "execute_result",
          "data": {
            "text/plain": [
              "BALANCE                               0\n",
              "BALANCE_FREQUENCY                     0\n",
              "PURCHASES                             0\n",
              "ONEOFF_PURCHASES                      0\n",
              "INSTALLMENTS_PURCHASES                0\n",
              "CASH_ADVANCE                          0\n",
              "PURCHASES_FREQUENCY                   0\n",
              "ONEOFF_PURCHASES_FREQUENCY            0\n",
              "PURCHASES_INSTALLMENTS_FREQUENCY      0\n",
              "CASH_ADVANCE_FREQUENCY                0\n",
              "CASH_ADVANCE_TRX                      0\n",
              "PURCHASES_TRX                         0\n",
              "CREDIT_LIMIT                          1\n",
              "PAYMENTS                              0\n",
              "MINIMUM_PAYMENTS                    313\n",
              "PRC_FULL_PAYMENT                      0\n",
              "dtype: int64"
            ]
          },
          "metadata": {},
          "execution_count": 3
        }
      ]
    },
    {
      "cell_type": "code",
      "source": [
        "dados.fillna(dados.median(), inplace=True)"
      ],
      "metadata": {
        "id": "uAHQo3pkfNzL"
      },
      "execution_count": 4,
      "outputs": []
    },
    {
      "cell_type": "code",
      "source": [
        "missing = dados.isna().sum()\n",
        "missing"
      ],
      "metadata": {
        "colab": {
          "base_uri": "https://localhost:8080/"
        },
        "id": "0hlqXcxEgWbd",
        "outputId": "d4d3e6e9-2709-4d5d-b881-0226301d0e98"
      },
      "execution_count": 5,
      "outputs": [
        {
          "output_type": "execute_result",
          "data": {
            "text/plain": [
              "BALANCE                             0\n",
              "BALANCE_FREQUENCY                   0\n",
              "PURCHASES                           0\n",
              "ONEOFF_PURCHASES                    0\n",
              "INSTALLMENTS_PURCHASES              0\n",
              "CASH_ADVANCE                        0\n",
              "PURCHASES_FREQUENCY                 0\n",
              "ONEOFF_PURCHASES_FREQUENCY          0\n",
              "PURCHASES_INSTALLMENTS_FREQUENCY    0\n",
              "CASH_ADVANCE_FREQUENCY              0\n",
              "CASH_ADVANCE_TRX                    0\n",
              "PURCHASES_TRX                       0\n",
              "CREDIT_LIMIT                        0\n",
              "PAYMENTS                            0\n",
              "MINIMUM_PAYMENTS                    0\n",
              "PRC_FULL_PAYMENT                    0\n",
              "dtype: int64"
            ]
          },
          "metadata": {},
          "execution_count": 5
        }
      ]
    },
    {
      "cell_type": "markdown",
      "source": [
        "Normalizar os dados"
      ],
      "metadata": {
        "id": "iItpecOdgvVD"
      }
    },
    {
      "cell_type": "code",
      "source": [
        "from sklearn.preprocessing import Normalizer\n",
        "valores = Normalizer().fit_transform(dados.values)\n",
        "valores"
      ],
      "metadata": {
        "colab": {
          "base_uri": "https://localhost:8080/"
        },
        "id": "BBGrbpjagZhs",
        "outputId": "056fb714-88a1-401a-f1dd-618458c5273d"
      },
      "execution_count": 6,
      "outputs": [
        {
          "output_type": "execute_result",
          "data": {
            "text/plain": [
              "array([[3.93555441e-02, 7.87271593e-04, 9.17958473e-02, ...,\n",
              "        1.94178127e-01, 1.34239194e-01, 0.00000000e+00],\n",
              "       [2.93875903e-01, 8.34231560e-05, 0.00000000e+00, ...,\n",
              "        3.76516684e-01, 9.84037959e-02, 2.03923046e-05],\n",
              "       [3.10798149e-01, 1.24560965e-04, 9.63068011e-02, ...,\n",
              "        7.74852335e-02, 7.81351982e-02, 0.00000000e+00],\n",
              "       ...,\n",
              "       [2.27733092e-02, 8.11060955e-04, 1.40540698e-01, ...,\n",
              "        7.90986945e-02, 8.02156174e-02, 2.43318384e-04],\n",
              "       [2.65257948e-02, 1.64255731e-03, 0.00000000e+00, ...,\n",
              "        1.03579625e-01, 1.09898221e-01, 4.92767391e-04],\n",
              "       [1.86406219e-01, 3.33426837e-04, 5.46778061e-01, ...,\n",
              "        3.15915455e-02, 4.41568390e-02, 0.00000000e+00]])"
            ]
          },
          "metadata": {},
          "execution_count": 6
        }
      ]
    },
    {
      "cell_type": "markdown",
      "source": [
        "#Clusterização"
      ],
      "metadata": {
        "id": "h6WK4wQshKI5"
      }
    },
    {
      "cell_type": "code",
      "source": [
        "from sklearn.cluster import KMeans\n",
        "kmeans = KMeans(n_clusters=5, n_init=10, max_iter=300)\n",
        "y_pred = kmeans.fit_predict(valores)"
      ],
      "metadata": {
        "id": "VlXpIetthM5Q"
      },
      "execution_count": 7,
      "outputs": []
    },
    {
      "cell_type": "markdown",
      "source": [
        "#Validação da Clusterização"
      ],
      "metadata": {
        "id": "I7QAGQZIiY5h"
      }
    },
    {
      "cell_type": "markdown",
      "source": [
        "**Coeficiente de Silhouette**"
      ],
      "metadata": {
        "id": "JFL31XCeuSnU"
      }
    },
    {
      "cell_type": "code",
      "source": [
        "from sklearn import metrics\n",
        "labels = kmeans.labels_\n",
        "silhouette = metrics.silhouette_score(valores, labels, metric='euclidean')\n",
        "print(silhouette)"
      ],
      "metadata": {
        "colab": {
          "base_uri": "https://localhost:8080/"
        },
        "id": "F7mCE_fPiEMm",
        "outputId": "d81b410e-186e-4c41-cefd-7e340f76a77b"
      },
      "execution_count": 8,
      "outputs": [
        {
          "output_type": "stream",
          "name": "stdout",
          "text": [
            "0.36454314826693845\n"
          ]
        }
      ]
    },
    {
      "cell_type": "markdown",
      "source": [
        "coeficiente > 0\n",
        "Isso valida os clusters como bons -> indica que eles estão separados um dos outros os valores vão de -1 a 1"
      ],
      "metadata": {
        "id": "oh0RIjPhu6lN"
      }
    },
    {
      "cell_type": "markdown",
      "source": [
        "**Indice Davies-Bouldin**"
      ],
      "metadata": {
        "id": "RqeCq7LQxoE-"
      }
    },
    {
      "cell_type": "code",
      "source": [
        "dbs = metrics.davies_bouldin_score(valores, labels)\n",
        "print(dbs)"
      ],
      "metadata": {
        "colab": {
          "base_uri": "https://localhost:8080/"
        },
        "id": "hIUW8yCZu9lj",
        "outputId": "84a86a59-e529-4836-f4e2-14ac3a8d0f84"
      },
      "execution_count": 9,
      "outputs": [
        {
          "output_type": "stream",
          "name": "stdout",
          "text": [
            "1.075812734747931\n"
          ]
        }
      ]
    },
    {
      "cell_type": "markdown",
      "source": [
        "**Indice Calinski**"
      ],
      "metadata": {
        "id": "oB8788lx5PQr"
      }
    },
    {
      "cell_type": "code",
      "source": [
        "calinski = metrics.calinski_harabasz_score(valores, labels)\n",
        "print(calinski)"
      ],
      "metadata": {
        "colab": {
          "base_uri": "https://localhost:8080/"
        },
        "id": "qCWRsy4kx-xK",
        "outputId": "cff90f6c-c0d7-44b8-84e0-d59897d84668"
      },
      "execution_count": 10,
      "outputs": [
        {
          "output_type": "stream",
          "name": "stdout",
          "text": [
            "3431.800540734652\n"
          ]
        }
      ]
    },
    {
      "cell_type": "markdown",
      "source": [
        "Validação Relativa"
      ],
      "metadata": {
        "id": "5RRycp3RXqQm"
      }
    },
    {
      "cell_type": "code",
      "source": [
        "def cluster_algorithm(n_clusters, dados):\n",
        "  kmeans = KMeans(n_clusters=n_clusters, n_init=10, max_iter=100)\n",
        "  labels = kmeans.fit_predict(dados)\n",
        "  s = metrics.silhouette_score(dados, labels, metric='euclidean')\n",
        "  dbs = metrics.davies_bouldin_score(valores, labels)\n",
        "  calinski = metrics.calinski_harabasz_score(valores, labels)\n",
        "  return s, dbs, calinski"
      ],
      "metadata": {
        "id": "m8z_sfL75dJn"
      },
      "execution_count": 11,
      "outputs": []
    },
    {
      "cell_type": "code",
      "source": [
        "s2, dbs2, calinski2 = cluster_algorithm(5, dados)\n",
        "print(s2, dbs2, calinski2)"
      ],
      "metadata": {
        "colab": {
          "base_uri": "https://localhost:8080/"
        },
        "id": "lqb7LN4EY95x",
        "outputId": "eaf8f218-6868-4cd0-dc50-287c9fb9e9b9"
      },
      "execution_count": 13,
      "outputs": [
        {
          "output_type": "stream",
          "name": "stdout",
          "text": [
            "0.3957135265659624 3.9288444559569746 145.3137286469154\n"
          ]
        }
      ]
    },
    {
      "cell_type": "code",
      "source": [
        "s3, dbs3, calinski3 = cluster_algorithm(10, dados)\n",
        "print(s3, dbs3, calinski3)"
      ],
      "metadata": {
        "colab": {
          "base_uri": "https://localhost:8080/"
        },
        "id": "GfqLuNHnZMiK",
        "outputId": "e63c264a-4073-4686-850f-32ded66f562e"
      },
      "execution_count": 15,
      "outputs": [
        {
          "output_type": "stream",
          "name": "stdout",
          "text": [
            "0.3615719505613948 4.070910259419201 286.08089112448783\n"
          ]
        }
      ]
    },
    {
      "cell_type": "code",
      "source": [
        "s1, dbs1, calinski1 = cluster_algorithm(20, dados)\n",
        "print(s1, dbs1, calinski1)"
      ],
      "metadata": {
        "colab": {
          "base_uri": "https://localhost:8080/"
        },
        "id": "ZbXe4pLpZRMf",
        "outputId": "f1f9eb8e-f201-4104-c5f6-07135f899951"
      },
      "execution_count": 16,
      "outputs": [
        {
          "output_type": "stream",
          "name": "stdout",
          "text": [
            "0.28572025722072836 5.047817342188152 296.0594090799537\n"
          ]
        }
      ]
    },
    {
      "cell_type": "markdown",
      "source": [
        "Com base nos testes vê-se que 5 clusters é aparentemente o número ideal (dentro dos testes feitos)"
      ],
      "metadata": {
        "id": "8TgwlxKNZlvS"
      }
    },
    {
      "cell_type": "markdown",
      "source": [
        "#Interpretação dos Resultados"
      ],
      "metadata": {
        "id": "biJBJl76cLF4"
      }
    },
    {
      "cell_type": "code",
      "source": [
        "import matplotlib.pyplot as plt\n",
        "plt.scatter(dados['PURCHASES'], dados['PAYMENTS'], c=labels, s=5, cmap='rainbow')\n",
        "plt.xlabel(\"Valor Total Pago\")\n",
        "plt.ylabel(\"Valor Total Gasto\")\n",
        "plt.show()"
      ],
      "metadata": {
        "colab": {
          "base_uri": "https://localhost:8080/",
          "height": 279
        },
        "id": "5ndU4kV7brYc",
        "outputId": "26633784-87fc-40fe-f861-224395343338"
      },
      "execution_count": 20,
      "outputs": [
        {
          "output_type": "display_data",
          "data": {
            "text/plain": [
              "<Figure size 432x288 with 1 Axes>"
            ],
            "image/png": "[encoded data removed]"
          },
          "metadata": {
            "needs_background": "light"
          }
        }
      ]
    },
    {
      "cell_type": "markdown",
      "source": [
        "**Descrição dos Atributos**"
      ],
      "metadata": {
        "id": "ZOhj_EjzeM_j"
      }
    },
    {
      "cell_type": "code",
      "source": [
        "dados[\"cluster\"] = labels\n",
        "dados.groupby(\"cluster\").describe()"
      ],
      "metadata": {
        "colab": {
          "base_uri": "https://localhost:8080/",
          "height": 362
        },
        "id": "2qZmVkm3dzox",
        "outputId": "16e5a659-95c4-4b46-d712-d1c92eff7c6b"
      },
      "execution_count": 22,
      "outputs": [
        {
          "output_type": "execute_result",
          "data": {
            "text/plain": [
              "        BALANCE                                                    \\\n",
              "          count         mean          std        min          25%   \n",
              "cluster                                                             \n",
              "0         411.0  1987.501586  1854.459156  70.794108  1018.958891   \n",
              "1        1537.0  1142.320861  1664.363459   0.000000   212.282538   \n",
              "2        1073.0  1795.328292  1982.485775   0.000000   507.076999   \n",
              "3        3280.0   443.746756   846.398201   0.000000    23.365333   \n",
              "4        2649.0  3037.962543  2478.838161   6.824905  1256.612223   \n",
              "\n",
              "                                                BALANCE_FREQUENCY            \\\n",
              "                 50%          75%           max             count      mean   \n",
              "cluster                                                                       \n",
              "0        1337.287314  2138.678431  11670.179850             411.0  0.989486   \n",
              "1         555.131027  1370.317105  19043.138560            1537.0  0.928267   \n",
              "2        1088.056301  2315.003636  14581.459140            1073.0  0.862260   \n",
              "3          82.941478   410.126095   9630.367575            3280.0  0.774389   \n",
              "4        2174.018945  4223.867789  18495.558550            2649.0  0.963740   \n",
              "\n",
              "         ... MINIMUM_PAYMENTS               PRC_FULL_PAYMENT            \\\n",
              "         ...              75%           max            count      mean   \n",
              "cluster  ...                                                             \n",
              "0        ...      7112.618584  76406.207520            411.0  0.019318   \n",
              "1        ...       523.893953  18621.013310           1537.0  0.278150   \n",
              "2        ...       884.183626  21235.065300           1073.0  0.117430   \n",
              "3        ...       248.733727   4483.503862           3280.0  0.246806   \n",
              "4        ...      1330.593643   8345.641905           2649.0  0.001799   \n",
              "\n",
              "                                                      \n",
              "              std  min  25%       50%       75%  max  \n",
              "cluster                                               \n",
              "0        0.090901  0.0  0.0  0.000000  0.000000  1.0  \n",
              "1        0.367086  0.0  0.0  0.083333  0.545455  1.0  \n",
              "2        0.186772  0.0  0.0  0.083333  0.142857  1.0  \n",
              "3        0.346748  0.0  0.0  0.000000  0.444444  1.0  \n",
              "4        0.023260  0.0  0.0  0.000000  0.000000  0.6  \n",
              "\n",
              "[5 rows x 128 columns]"
            ],
            "text/html": [
              "\n",
              "  <div id=\"df-98093421-e0c7-4d2d-8e7a-7480cdde477a\">\n",
              "    <div class=\"colab-df-container\">\n",
              "      <div>\n",
              "<style scoped>\n",
              "    .dataframe tbody tr th:only-of-type {\n",
              "        vertical-align: middle;\n",
              "    }\n",
              "\n",
              "    .dataframe tbody tr th {\n",
              "        vertical-align: top;\n",
              "    }\n",
              "\n",
              "    .dataframe thead tr th {\n",
              "        text-align: left;\n",
              "    }\n",
              "\n",
              "    .dataframe thead tr:last-of-type th {\n",
              "        text-align: right;\n",
              "    }\n",
              "</style>\n",
              "<table border=\"1\" class=\"dataframe\">\n",
              "  <thead>\n",
              "    <tr>\n",
              "      <th></th>\n",
              "      <th colspan=\"8\" halign=\"left\">BALANCE</th>\n",
              "      <th colspan=\"2\" halign=\"left\">BALANCE_FREQUENCY</th>\n",
              "      <th>...</th>\n",
              "      <th colspan=\"2\" halign=\"left\">MINIMUM_PAYMENTS</th>\n",
              "      <th colspan=\"8\" halign=\"left\">PRC_FULL_PAYMENT</th>\n",
              "    </tr>\n",
              "    <tr>\n",
              "      <th></th>\n",
              "      <th>count</th>\n",
              "      <th>mean</th>\n",
              "      <th>std</th>\n",
              "      <th>min</th>\n",
              "      <th>25%</th>\n",
              "      <th>50%</th>\n",
              "      <th>75%</th>\n",
              "      <th>max</th>\n",
              "      <th>count</th>\n",
              "      <th>mean</th>\n",
              "      <th>...</th>\n",
              "      <th>75%</th>\n",
              "      <th>max</th>\n",
              "      <th>count</th>\n",
              "      <th>mean</th>\n",
              "      <th>std</th>\n",
              "      <th>min</th>\n",
              "      <th>25%</th>\n",
              "      <th>50%</th>\n",
              "      <th>75%</th>\n",
              "      <th>max</th>\n",
              "    </tr>\n",
              "    <tr>\n",
              "      <th>cluster</th>\n",
              "      <th></th>\n",
              "      <th></th>\n",
              "      <th></th>\n",
              "      <th></th>\n",
              "      <th></th>\n",
              "      <th></th>\n",
              "      <th></th>\n",
              "      <th></th>\n",
              "      <th></th>\n",
              "      <th></th>\n",
              "      <th></th>\n",
              "      <th></th>\n",
              "      <th></th>\n",
              "      <th></th>\n",
              "      <th></th>\n",
              "      <th></th>\n",
              "      <th></th>\n",
              "      <th></th>\n",
              "      <th></th>\n",
              "      <th></th>\n",
              "      <th></th>\n",
              "    </tr>\n",
              "  </thead>\n",
              "  <tbody>\n",
              "    <tr>\n",
              "      <th>0</th>\n",
              "      <td>411.0</td>\n",
              "      <td>1987.501586</td>\n",
              "      <td>1854.459156</td>\n",
              "      <td>70.794108</td>\n",
              "      <td>1018.958891</td>\n",
              "      <td>1337.287314</td>\n",
              "      <td>2138.678431</td>\n",
              "      <td>11670.179850</td>\n",
              "      <td>411.0</td>\n",
              "      <td>0.989486</td>\n",
              "      <td>...</td>\n",
              "      <td>7112.618584</td>\n",
              "      <td>76406.207520</td>\n",
              "      <td>411.0</td>\n",
              "      <td>0.019318</td>\n",
              "      <td>0.090901</td>\n",
              "      <td>0.0</td>\n",
              "      <td>0.0</td>\n",
              "      <td>0.000000</td>\n",
              "      <td>0.000000</td>\n",
              "      <td>1.0</td>\n",
              "    </tr>\n",
              "    <tr>\n",
              "      <th>1</th>\n",
              "      <td>1537.0</td>\n",
              "      <td>1142.320861</td>\n",
              "      <td>1664.363459</td>\n",
              "      <td>0.000000</td>\n",
              "      <td>212.282538</td>\n",
              "      <td>555.131027</td>\n",
              "      <td>1370.317105</td>\n",
              "      <td>19043.138560</td>\n",
              "      <td>1537.0</td>\n",
              "      <td>0.928267</td>\n",
              "      <td>...</td>\n",
              "      <td>523.893953</td>\n",
              "      <td>18621.013310</td>\n",
              "      <td>1537.0</td>\n",
              "      <td>0.278150</td>\n",
              "      <td>0.367086</td>\n",
              "      <td>0.0</td>\n",
              "      <td>0.0</td>\n",
              "      <td>0.083333</td>\n",
              "      <td>0.545455</td>\n",
              "      <td>1.0</td>\n",
              "    </tr>\n",
              "    <tr>\n",
              "      <th>2</th>\n",
              "      <td>1073.0</td>\n",
              "      <td>1795.328292</td>\n",
              "      <td>1982.485775</td>\n",
              "      <td>0.000000</td>\n",
              "      <td>507.076999</td>\n",
              "      <td>1088.056301</td>\n",
              "      <td>2315.003636</td>\n",
              "      <td>14581.459140</td>\n",
              "      <td>1073.0</td>\n",
              "      <td>0.862260</td>\n",
              "      <td>...</td>\n",
              "      <td>884.183626</td>\n",
              "      <td>21235.065300</td>\n",
              "      <td>1073.0</td>\n",
              "      <td>0.117430</td>\n",
              "      <td>0.186772</td>\n",
              "      <td>0.0</td>\n",
              "      <td>0.0</td>\n",
              "      <td>0.083333</td>\n",
              "      <td>0.142857</td>\n",
              "      <td>1.0</td>\n",
              "    </tr>\n",
              "    <tr>\n",
              "      <th>3</th>\n",
              "      <td>3280.0</td>\n",
              "      <td>443.746756</td>\n",
              "      <td>846.398201</td>\n",
              "      <td>0.000000</td>\n",
              "      <td>23.365333</td>\n",
              "      <td>82.941478</td>\n",
              "      <td>410.126095</td>\n",
              "      <td>9630.367575</td>\n",
              "      <td>3280.0</td>\n",
              "      <td>0.774389</td>\n",
              "      <td>...</td>\n",
              "      <td>248.733727</td>\n",
              "      <td>4483.503862</td>\n",
              "      <td>3280.0</td>\n",
              "      <td>0.246806</td>\n",
              "      <td>0.346748</td>\n",
              "      <td>0.0</td>\n",
              "      <td>0.0</td>\n",
              "      <td>0.000000</td>\n",
              "      <td>0.444444</td>\n",
              "      <td>1.0</td>\n",
              "    </tr>\n",
              "    <tr>\n",
              "      <th>4</th>\n",
              "      <td>2649.0</td>\n",
              "      <td>3037.962543</td>\n",
              "      <td>2478.838161</td>\n",
              "      <td>6.824905</td>\n",
              "      <td>1256.612223</td>\n",
              "      <td>2174.018945</td>\n",
              "      <td>4223.867789</td>\n",
              "      <td>18495.558550</td>\n",
              "      <td>2649.0</td>\n",
              "      <td>0.963740</td>\n",
              "      <td>...</td>\n",
              "      <td>1330.593643</td>\n",
              "      <td>8345.641905</td>\n",
              "      <td>2649.0</td>\n",
              "      <td>0.001799</td>\n",
              "      <td>0.023260</td>\n",
              "      <td>0.0</td>\n",
              "      <td>0.0</td>\n",
              "      <td>0.000000</td>\n",
              "      <td>0.000000</td>\n",
              "      <td>0.6</td>\n",
              "    </tr>\n",
              "  </tbody>\n",
              "</table>\n",
              "<p>5 rows × 128 columns</p>\n",
              "</div>\n",
              "      <button class=\"colab-df-convert\" onclick=\"convertToInteractive('df-98093421-e0c7-4d2d-8e7a-7480cdde477a')\"\n",
              "              title=\"Convert this dataframe to an interactive table.\"\n",
              "              style=\"display:none;\">\n",
              "        \n",
              "  <svg xmlns=\"http://www.w3.org/2000/svg\" height=\"24px\"viewBox=\"0 0 24 24\"\n",
              "       width=\"24px\">\n",
              "    <path d=\"M0 0h24v24H0V0z\" fill=\"none\"/>\n",
              "    <path d=\"M18.56 5.44l.94 2.06.94-2.06 2.06-.94-2.06-.94-.94-2.06-.94 2.06-2.06.94zm-11 1L8.5 8.5l.94-2.06 2.06-.94-2.06-.94L8.5 2.5l-.94 2.06-2.06.94zm10 10l.94 2.06.94-2.06 2.06-.94-2.06-.94-.94-2.06-.94 2.06-2.06.94z\"/><path d=\"M17.41 7.96l-1.37-1.37c-.4-.4-.92-.59-1.43-.59-.52 0-1.04.2-1.43.59L10.3 9.45l-7.72 7.72c-.78.78-.78 2.05 0 2.83L4 21.41c.39.39.9.59 1.41.59.51 0 1.02-.2 1.41-.59l7.78-7.78 2.81-2.81c.8-.78.8-2.07 0-2.86zM5.41 20L4 18.59l7.72-7.72 1.47 1.35L5.41 20z\"/>\n",
              "  </svg>\n",
              "      </button>\n",
              "      \n",
              "  <style>\n",
              "    .colab-df-container {\n",
              "      display:flex;\n",
              "      flex-wrap:wrap;\n",
              "      gap: 12px;\n",
              "    }\n",
              "\n",
              "    .colab-df-convert {\n",
              "      background-color: #E8F0FE;\n",
              "      border: none;\n",
              "      border-radius: 50%;\n",
              "      cursor: pointer;\n",
              "      display: none;\n",
              "      fill: #1967D2;\n",
              "      height: 32px;\n",
              "      padding: 0 0 0 0;\n",
              "      width: 32px;\n",
              "    }\n",
              "\n",
              "    .colab-df-convert:hover {\n",
              "      background-color: #E2EBFA;\n",
              "      box-shadow: 0px 1px 2px rgba(60, 64, 67, 0.3), 0px 1px 3px 1px rgba(60, 64, 67, 0.15);\n",
              "      fill: #174EA6;\n",
              "    }\n",
              "\n",
              "    [theme=dark] .colab-df-convert {\n",
              "      background-color: #3B4455;\n",
              "      fill: #D2E3FC;\n",
              "    }\n",
              "\n",
              "    [theme=dark] .colab-df-convert:hover {\n",
              "      background-color: #434B5C;\n",
              "      box-shadow: 0px 1px 3px 1px rgba(0, 0, 0, 0.15);\n",
              "      filter: drop-shadow(0px 1px 2px rgba(0, 0, 0, 0.3));\n",
              "      fill: #FFFFFF;\n",
              "    }\n",
              "  </style>\n",
              "\n",
              "      <script>\n",
              "        const buttonEl =\n",
              "          document.querySelector('#df-98093421-e0c7-4d2d-8e7a-7480cdde477a button.colab-df-convert');\n",
              "        buttonEl.style.display =\n",
              "          google.colab.kernel.accessAllowed ? 'block' : 'none';\n",
              "\n",
              "        async function convertToInteractive(key) {\n",
              "          const element = document.querySelector('#df-98093421-e0c7-4d2d-8e7a-7480cdde477a');\n",
              "          const dataTable =\n",
              "            await google.colab.kernel.invokeFunction('convertToInteractive',\n",
              "                                                     [key], {});\n",
              "          if (!dataTable) return;\n",
              "\n",
              "          const docLinkHtml = 'Like what you see? Visit the ' +\n",
              "            '<a target=\"_blank\" href=https://colab.research.google.com/notebooks/data_table.ipynb>data table notebook</a>'\n",
              "            + ' to learn more about interactive tables.';\n",
              "          element.innerHTML = '';\n",
              "          dataTable['output_type'] = 'display_data';\n",
              "          await google.colab.output.renderOutput(dataTable, element);\n",
              "          const docLink = document.createElement('div');\n",
              "          docLink.innerHTML = docLinkHtml;\n",
              "          element.appendChild(docLink);\n",
              "        }\n",
              "      </script>\n",
              "    </div>\n",
              "  </div>\n",
              "  "
            ]
          },
          "metadata": {},
          "execution_count": 22
        }
      ]
    },
    {
      "cell_type": "code",
      "source": [
        "centroides = kmeans.cluster_centers_\n",
        "centroides"
      ],
      "metadata": {
        "colab": {
          "base_uri": "https://localhost:8080/"
        },
        "id": "PmAODnTyewA6",
        "outputId": "6980ef5f-e287-46de-f61f-1b472a558bbc"
      },
      "execution_count": 23,
      "outputs": [
        {
          "output_type": "execute_result",
          "data": {
            "text/plain": [
              "array([[3.32918803e-01, 2.68423552e-04, 1.58240376e-01, 3.63059801e-02,\n",
              "        1.22319068e-01, 5.83557153e-02, 1.66754597e-04, 2.64938445e-05,\n",
              "        1.47063187e-04, 1.93217566e-05, 4.27934836e-04, 3.86197017e-03,\n",
              "        3.76718873e-01, 2.51861450e-01, 6.80311114e-01, 4.23993819e-06],\n",
              "       [1.59999628e-01, 2.45301618e-04, 4.38629300e-01, 2.57109259e-01,\n",
              "        1.81691775e-01, 2.58728121e-02, 2.04397971e-04, 8.90423829e-05,\n",
              "        1.50590954e-04, 9.39341912e-06, 1.69901859e-04, 6.17457556e-03,\n",
              "        6.03719056e-01, 4.02576568e-01, 8.54459126e-02, 7.19457109e-05],\n",
              "       [2.35130689e-01, 2.16418717e-04, 6.04525670e-02, 3.44569238e-02,\n",
              "        2.60008529e-02, 3.99755165e-01, 5.26563547e-05, 2.05235176e-05,\n",
              "        3.52245850e-05, 6.54254245e-05, 1.57052528e-03, 1.12425758e-03,\n",
              "        5.35275552e-01, 5.98057989e-01, 1.04294158e-01, 2.77348362e-05],\n",
              "       [6.90890221e-02, 2.30787435e-04, 1.21507361e-01, 4.79670320e-02,\n",
              "        7.36405575e-02, 2.43310654e-02, 1.72863102e-04, 3.36686718e-05,\n",
              "        1.40328311e-04, 7.92341768e-06, 1.23962309e-04, 2.86381277e-03,\n",
              "        9.43564102e-01, 1.53799817e-01, 5.68529799e-02, 7.61493366e-05],\n",
              "       [5.04263792e-01, 2.72194282e-04, 6.17808431e-02, 3.62269020e-02,\n",
              "        2.55756543e-02, 2.52903017e-01, 6.73170559e-05, 2.56975193e-05,\n",
              "        4.50651626e-05, 5.74388410e-05, 1.15687334e-03, 1.33194105e-03,\n",
              "        7.19174706e-01, 1.66205262e-01, 1.79245673e-01, 5.52303554e-07]])"
            ]
          },
          "metadata": {},
          "execution_count": 23
        }
      ]
    },
    {
      "cell_type": "code",
      "source": [
        "max = len(centroides[0])\n",
        "for i in range(max):\n",
        "  print(dados.columns.values[i], centroides[:, i].var())"
      ],
      "metadata": {
        "colab": {
          "base_uri": "https://localhost:8080/"
        },
        "id": "s5SNiHk4fePx",
        "outputId": "48533dff-6860-464b-8861-d4d07ab1b754"
      },
      "execution_count": 28,
      "outputs": [
        {
          "output_type": "stream",
          "name": "stdout",
          "text": [
            "BALANCE 0.022409423461416705\n",
            "BALANCE_FREQUENCY 4.587928758315326e-10\n",
            "PURCHASES 0.019669183816627245\n",
            "ONEOFF_PURCHASES 0.007652821155903197\n",
            "INSTALLMENTS_PURCHASES 0.003575925273792474\n",
            "CASH_ADVANCE 0.022508084080863626\n",
            "PURCHASES_FREQUENCY 3.719051217661298e-09\n",
            "ONEOFF_PURCHASES_FREQUENCY 6.414734370844868e-10\n",
            "PURCHASES_INSTALLMENTS_FREQUENCY 2.709535400008917e-09\n",
            "CASH_ADVANCE_FREQUENCY 6.031642741893597e-10\n",
            "CASH_ADVANCE_TRX 3.3057484758869873e-07\n",
            "PURCHASES_TRX 3.4229746341498526e-06\n",
            "CREDIT_LIMIT 0.03598548120806572\n",
            "PAYMENTS 0.027980416164051412\n",
            "MINIMUM_PAYMENTS 0.054329853404071225\n",
            "PRC_FULL_PAYMENT 1.0475079193635398e-09\n"
          ]
        }
      ]
    },
    {
      "cell_type": "markdown",
      "source": [
        "Parâmetros elegiveis"
      ],
      "metadata": {
        "id": "YhWalXDkhDJu"
      }
    },
    {
      "cell_type": "markdown",
      "source": [
        "BALANCE = limite disponível\n",
        "\n",
        "PURCHASES = valor de compras\n",
        "\n",
        "CASH_ADVANCE = valor de saques\n",
        "\n",
        "CREDIT_LIMIT = limite de crédito total\n",
        "\n",
        "PAYMENTS = valor total pago\n",
        "\n",
        "MINIMUM_PAYMENTS = mínimo pago"
      ],
      "metadata": {
        "id": "h5Zea_WshHIu"
      }
    },
    {
      "cell_type": "markdown",
      "source": [
        "Com base na intepretação dos atributos podemos retirar o MINIMUM_PAYMENTS"
      ],
      "metadata": {
        "id": "Sk3Bu_lfiCdv"
      }
    },
    {
      "cell_type": "code",
      "source": [
        "description = dados.groupby(\"cluster\")[\"BALANCE\", \"PURCHASES\", \"CASH_ADVANCE\", \"CREDIT_LIMIT\", \"PAYMENTS\"]\n",
        "n_clients = description.size()\n",
        "description = description.mean()\n",
        "description['n_clients'] = n_clients\n",
        "print(description)"
      ],
      "metadata": {
        "colab": {
          "base_uri": "https://localhost:8080/"
        },
        "id": "Gvpb2ImQgWMC",
        "outputId": "7461aa59-3f79-42f5-d425-2445bf370d6e"
      },
      "execution_count": 40,
      "outputs": [
        {
          "output_type": "stream",
          "name": "stdout",
          "text": [
            "             BALANCE    PURCHASES  CASH_ADVANCE  CREDIT_LIMIT     PAYMENTS  \\\n",
            "cluster                                                                      \n",
            "0        1987.501586   854.865815    421.129352   2227.737226  1336.238911   \n",
            "1        1142.320861  3273.425517    183.376625   4097.306540  3036.763695   \n",
            "2        1795.328292   476.810531   3267.199032   3982.452201  4713.384730   \n",
            "3         443.746756   629.249107    141.482978   5130.547795   814.294226   \n",
            "4        3037.962543   385.248630   1636.917210   4495.771989   968.890376   \n",
            "\n",
            "         n_clients  \n",
            "cluster             \n",
            "0              411  \n",
            "1             1537  \n",
            "2             1073  \n",
            "3             3280  \n",
            "4             2649  \n"
          ]
        },
        {
          "output_type": "stream",
          "name": "stderr",
          "text": [
            "/usr/local/lib/python3.7/dist-packages/ipykernel_launcher.py:1: FutureWarning: Indexing with multiple keys (implicitly converted to a tuple of keys) will be deprecated, use a list instead.\n",
            "  \"\"\"Entry point for launching an IPython kernel.\n"
          ]
        }
      ]
    },
    {
      "cell_type": "code",
      "source": [
        "dados.groupby('cluster')['PRC_FULL_PAYMENT'].describe()"
      ],
      "metadata": {
        "colab": {
          "base_uri": "https://localhost:8080/",
          "height": 237
        },
        "id": "Y8SsVgTFidl8",
        "outputId": "d5963d87-959b-4be9-a787-7bc5884334d0"
      },
      "execution_count": 41,
      "outputs": [
        {
          "output_type": "execute_result",
          "data": {
            "text/plain": [
              "          count      mean       std  min  25%       50%       75%  max\n",
              "cluster                                                               \n",
              "0         411.0  0.019318  0.090901  0.0  0.0  0.000000  0.000000  1.0\n",
              "1        1537.0  0.278150  0.367086  0.0  0.0  0.083333  0.545455  1.0\n",
              "2        1073.0  0.117430  0.186772  0.0  0.0  0.083333  0.142857  1.0\n",
              "3        3280.0  0.246806  0.346748  0.0  0.0  0.000000  0.444444  1.0\n",
              "4        2649.0  0.001799  0.023260  0.0  0.0  0.000000  0.000000  0.6"
            ],
            "text/html": [
              "\n",
              "  <div id=\"df-64d72e6d-5263-49b3-919b-817ef4797441\">\n",
              "    <div class=\"colab-df-container\">\n",
              "      <div>\n",
              "<style scoped>\n",
              "    .dataframe tbody tr th:only-of-type {\n",
              "        vertical-align: middle;\n",
              "    }\n",
              "\n",
              "    .dataframe tbody tr th {\n",
              "        vertical-align: top;\n",
              "    }\n",
              "\n",
              "    .dataframe thead th {\n",
              "        text-align: right;\n",
              "    }\n",
              "</style>\n",
              "<table border=\"1\" class=\"dataframe\">\n",
              "  <thead>\n",
              "    <tr style=\"text-align: right;\">\n",
              "      <th></th>\n",
              "      <th>count</th>\n",
              "      <th>mean</th>\n",
              "      <th>std</th>\n",
              "      <th>min</th>\n",
              "      <th>25%</th>\n",
              "      <th>50%</th>\n",
              "      <th>75%</th>\n",
              "      <th>max</th>\n",
              "    </tr>\n",
              "    <tr>\n",
              "      <th>cluster</th>\n",
              "      <th></th>\n",
              "      <th></th>\n",
              "      <th></th>\n",
              "      <th></th>\n",
              "      <th></th>\n",
              "      <th></th>\n",
              "      <th></th>\n",
              "      <th></th>\n",
              "    </tr>\n",
              "  </thead>\n",
              "  <tbody>\n",
              "    <tr>\n",
              "      <th>0</th>\n",
              "      <td>411.0</td>\n",
              "      <td>0.019318</td>\n",
              "      <td>0.090901</td>\n",
              "      <td>0.0</td>\n",
              "      <td>0.0</td>\n",
              "      <td>0.000000</td>\n",
              "      <td>0.000000</td>\n",
              "      <td>1.0</td>\n",
              "    </tr>\n",
              "    <tr>\n",
              "      <th>1</th>\n",
              "      <td>1537.0</td>\n",
              "      <td>0.278150</td>\n",
              "      <td>0.367086</td>\n",
              "      <td>0.0</td>\n",
              "      <td>0.0</td>\n",
              "      <td>0.083333</td>\n",
              "      <td>0.545455</td>\n",
              "      <td>1.0</td>\n",
              "    </tr>\n",
              "    <tr>\n",
              "      <th>2</th>\n",
              "      <td>1073.0</td>\n",
              "      <td>0.117430</td>\n",
              "      <td>0.186772</td>\n",
              "      <td>0.0</td>\n",
              "      <td>0.0</td>\n",
              "      <td>0.083333</td>\n",
              "      <td>0.142857</td>\n",
              "      <td>1.0</td>\n",
              "    </tr>\n",
              "    <tr>\n",
              "      <th>3</th>\n",
              "      <td>3280.0</td>\n",
              "      <td>0.246806</td>\n",
              "      <td>0.346748</td>\n",
              "      <td>0.0</td>\n",
              "      <td>0.0</td>\n",
              "      <td>0.000000</td>\n",
              "      <td>0.444444</td>\n",
              "      <td>1.0</td>\n",
              "    </tr>\n",
              "    <tr>\n",
              "      <th>4</th>\n",
              "      <td>2649.0</td>\n",
              "      <td>0.001799</td>\n",
              "      <td>0.023260</td>\n",
              "      <td>0.0</td>\n",
              "      <td>0.0</td>\n",
              "      <td>0.000000</td>\n",
              "      <td>0.000000</td>\n",
              "      <td>0.6</td>\n",
              "    </tr>\n",
              "  </tbody>\n",
              "</table>\n",
              "</div>\n",
              "      <button class=\"colab-df-convert\" onclick=\"convertToInteractive('df-64d72e6d-5263-49b3-919b-817ef4797441')\"\n",
              "              title=\"Convert this dataframe to an interactive table.\"\n",
              "              style=\"display:none;\">\n",
              "        \n",
              "  <svg xmlns=\"http://www.w3.org/2000/svg\" height=\"24px\"viewBox=\"0 0 24 24\"\n",
              "       width=\"24px\">\n",
              "    <path d=\"M0 0h24v24H0V0z\" fill=\"none\"/>\n",
              "    <path d=\"M18.56 5.44l.94 2.06.94-2.06 2.06-.94-2.06-.94-.94-2.06-.94 2.06-2.06.94zm-11 1L8.5 8.5l.94-2.06 2.06-.94-2.06-.94L8.5 2.5l-.94 2.06-2.06.94zm10 10l.94 2.06.94-2.06 2.06-.94-2.06-.94-.94-2.06-.94 2.06-2.06.94z\"/><path d=\"M17.41 7.96l-1.37-1.37c-.4-.4-.92-.59-1.43-.59-.52 0-1.04.2-1.43.59L10.3 9.45l-7.72 7.72c-.78.78-.78 2.05 0 2.83L4 21.41c.39.39.9.59 1.41.59.51 0 1.02-.2 1.41-.59l7.78-7.78 2.81-2.81c.8-.78.8-2.07 0-2.86zM5.41 20L4 18.59l7.72-7.72 1.47 1.35L5.41 20z\"/>\n",
              "  </svg>\n",
              "      </button>\n",
              "      \n",
              "  <style>\n",
              "    .colab-df-container {\n",
              "      display:flex;\n",
              "      flex-wrap:wrap;\n",
              "      gap: 12px;\n",
              "    }\n",
              "\n",
              "    .colab-df-convert {\n",
              "      background-color: #E8F0FE;\n",
              "      border: none;\n",
              "      border-radius: 50%;\n",
              "      cursor: pointer;\n",
              "      display: none;\n",
              "      fill: #1967D2;\n",
              "      height: 32px;\n",
              "      padding: 0 0 0 0;\n",
              "      width: 32px;\n",
              "    }\n",
              "\n",
              "    .colab-df-convert:hover {\n",
              "      background-color: #E2EBFA;\n",
              "      box-shadow: 0px 1px 2px rgba(60, 64, 67, 0.3), 0px 1px 3px 1px rgba(60, 64, 67, 0.15);\n",
              "      fill: #174EA6;\n",
              "    }\n",
              "\n",
              "    [theme=dark] .colab-df-convert {\n",
              "      background-color: #3B4455;\n",
              "      fill: #D2E3FC;\n",
              "    }\n",
              "\n",
              "    [theme=dark] .colab-df-convert:hover {\n",
              "      background-color: #434B5C;\n",
              "      box-shadow: 0px 1px 3px 1px rgba(0, 0, 0, 0.15);\n",
              "      filter: drop-shadow(0px 1px 2px rgba(0, 0, 0, 0.3));\n",
              "      fill: #FFFFFF;\n",
              "    }\n",
              "  </style>\n",
              "\n",
              "      <script>\n",
              "        const buttonEl =\n",
              "          document.querySelector('#df-64d72e6d-5263-49b3-919b-817ef4797441 button.colab-df-convert');\n",
              "        buttonEl.style.display =\n",
              "          google.colab.kernel.accessAllowed ? 'block' : 'none';\n",
              "\n",
              "        async function convertToInteractive(key) {\n",
              "          const element = document.querySelector('#df-64d72e6d-5263-49b3-919b-817ef4797441');\n",
              "          const dataTable =\n",
              "            await google.colab.kernel.invokeFunction('convertToInteractive',\n",
              "                                                     [key], {});\n",
              "          if (!dataTable) return;\n",
              "\n",
              "          const docLinkHtml = 'Like what you see? Visit the ' +\n",
              "            '<a target=\"_blank\" href=https://colab.research.google.com/notebooks/data_table.ipynb>data table notebook</a>'\n",
              "            + ' to learn more about interactive tables.';\n",
              "          element.innerHTML = '';\n",
              "          dataTable['output_type'] = 'display_data';\n",
              "          await google.colab.output.renderOutput(dataTable, element);\n",
              "          const docLink = document.createElement('div');\n",
              "          docLink.innerHTML = docLinkHtml;\n",
              "          element.appendChild(docLink);\n",
              "        }\n",
              "      </script>\n",
              "    </div>\n",
              "  </div>\n",
              "  "
            ]
          },
          "metadata": {},
          "execution_count": 41
        }
      ]
    },
    {
      "cell_type": "markdown",
      "source": [
        "CLUSTER 0: menor limite de crédito; pagamento menor que o gasto; menos clientes\n",
        "\n",
        "CLUSTER 1: gastam muito com compras no cartão; pagamento maior que o gasto; melhores pagadores\n",
        "\n",
        "CLUSTER 2: gastam muito com saques; pagamentos bem maior do que o gasto\n",
        "\n",
        "CLUSTER 3: menores gastos; maior limite de crédito; mais clientes\n",
        "\n",
        "CLUSTER 4: maiores gastos; menor valor em compras; valor considerável de saques; pagamento bem abaixo do valor gasto; piores pagadores"
      ],
      "metadata": {
        "id": "eSsmk2EVmHu3"
      }
    },
    {
      "cell_type": "markdown",
      "source": [
        "**Estratégias Possíveis de Negócio**\n",
        "\n",
        "-Estimular os clientes do cluster 3 a gastarem mais\n",
        "\n",
        "-Outros clusters bons para estimular o consumo são o cluster 1 e o cluster 2\n",
        "\n",
        "-Clusters 0 e 4 estão entre os piores pagadores (o que os diferencia é que o cluster 0 tem pouco limite e o cluster 4 tem bastante limite)"
      ],
      "metadata": {
        "id": "QPAg_tkYqI0k"
      }
    },
    {
      "cell_type": "code",
      "source": [],
      "metadata": {
        "id": "XeCz7Txxq5dw"
      },
      "execution_count": null,
      "outputs": []
    }
  ]
}